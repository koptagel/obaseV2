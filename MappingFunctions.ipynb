{
 "cells": [
  {
   "cell_type": "markdown",
   "metadata": {},
   "source": [
    "### Mapping Functions \n",
    "\n",
    "This notebook contains the mapping-related functions. \n",
    "\n",
    "By mapping, we mean the relation between real id values and the index values used in the database. \n",
    "\n",
    "We have the following mappings so far: \n",
    "\n",
    "    * CustomerId - CustomerIndex \n",
    "    * CustomerIndex - CustomerId \n",
    "    * ItemId - ItemIndex \n",
    "    * ItemIndex - ItemId\n",
    "    * ItemId - ItemG3Index\n",
    "    * ItemIndex - ItemG3Id\n",
    "    * ItemIndex - ItemG3Index\n",
    "  \n",
    "If there is no result, the functions will display an error message and return -99 value as the result. "
   ]
  },
  {
   "cell_type": "code",
   "execution_count": 1,
   "metadata": {
    "collapsed": false
   },
   "outputs": [
    {
     "name": "stdout",
     "output_type": "stream",
     "text": [
      "Overwriting MappingFunctions.py\n"
     ]
    }
   ],
   "source": [
    "#%%writefile MappingFunctions.py\n",
    "\n",
    "import sqlite3\n",
    "\n",
    "### Functions of CustomerMapping table\n",
    "def getCustomerIndex(db_name, customerId):\n",
    "    conn = sqlite3.connect(db_name)\n",
    "    cur = conn.cursor()\n",
    "    \n",
    "    cur.execute(\"SELECT CustomerIndex FROM CustomerMapping WHERE CustomerId=?\", (customerId,))\n",
    "    result = cur.fetchone()\n",
    "    if result is None:\n",
    "        print(\"Invalid Customer Id\")\n",
    "        customerIndex = -99\n",
    "    else:\n",
    "        customerIndex = result[0]\n",
    "        \n",
    "    conn.close()\n",
    "    return customerIndex\n",
    "\n",
    "def getCustomerId(db_name, customerIndex):\n",
    "    conn = sqlite3.connect(db_name)\n",
    "    cur = conn.cursor()\n",
    "    \n",
    "    cur.execute(\"SELECT CustomerId FROM CustomerMapping WHERE CustomerIndex=?\", (customerIndex,))\n",
    "    result = cur.fetchone()\n",
    "    if result is None:\n",
    "        print(\"Invalid Customer Index\")\n",
    "        customerId = -99\n",
    "    else:\n",
    "        customerId = result[0]\n",
    "        \n",
    "    conn.close()\n",
    "    return customerId\n",
    "\n",
    "\n",
    "### Functions of ItemMapping table\n",
    "def getItemIndexWithItemId(db_name, itemId):\n",
    "    conn = sqlite3.connect(db_name)\n",
    "    cur = conn.cursor()\n",
    "    \n",
    "    cur.execute(\"SELECT ItemIndex FROM ItemMapping WHERE ItemId=?\", (itemId,))\n",
    "    result = cur.fetchone()\n",
    "    if result is None:\n",
    "        print(\"Invalid Item Id\")\n",
    "        itemIndex = -99\n",
    "    else:\n",
    "        itemIndex = result[0]\n",
    "        \n",
    "    conn.close()\n",
    "    return itemIndex\n",
    "\n",
    "def getItemIdWithItemIndex(db_name, itemIndex):\n",
    "    conn = sqlite3.connect(db_name)\n",
    "    cur = conn.cursor()\n",
    "    \n",
    "    cur.execute(\"SELECT ItemId FROM ItemMapping WHERE ItemIndex=?\", (itemIndex,))\n",
    "    result = cur.fetchone()\n",
    "    if result is None:\n",
    "        print(\"Invalid Item Index\")\n",
    "        itemId = -99\n",
    "    else:\n",
    "        itemId = result[0]\n",
    "        \n",
    "    conn.close()\n",
    "    return itemId\n",
    "\n",
    "def getItemG3IndexWithItemId(db_name, itemId):\n",
    "    conn = sqlite3.connect(db_name)\n",
    "    cur = conn.cursor()\n",
    "    \n",
    "    cur.execute(\"SELECT ItemG3Index FROM ItemMapping WHERE ItemId=?\", (itemId,))\n",
    "    result = cur.fetchone()\n",
    "    if result is None:\n",
    "        print(\"Invalid Item Id\")\n",
    "        itemG3Index = -99\n",
    "    else:\n",
    "        itemG3Index = result[0]\n",
    "        \n",
    "    conn.close()\n",
    "    return itemG3Index\n",
    "\n",
    "def getItemG3IdWithItemIndex(db_name, itemIndex):\n",
    "    conn = sqlite3.connect(db_name)\n",
    "    cur = conn.cursor()\n",
    "    \n",
    "    cur.execute(\"SELECT ItemG3Id FROM ItemMapping WHERE ItemIndex=?\", (itemIndex,))\n",
    "    result = cur.fetchone()\n",
    "    if result is None:\n",
    "        print(\"Invalid Item Index\")\n",
    "        itemG3Id = -99\n",
    "    else:\n",
    "        itemG3Id = result[0]\n",
    "        \n",
    "    conn.close()\n",
    "    return itemG3Id\n",
    "\n",
    "\n",
    "def getItemG3IndexWithItemIndex(db_name, itemIndex):\n",
    "    conn = sqlite3.connect(db_name)\n",
    "    cur = conn.cursor()\n",
    "    \n",
    "    cur.execute(\"SELECT ItemG3Index FROM ItemMapping WHERE ItemIndex=?\", (itemIndex,))\n",
    "    result = cur.fetchone()\n",
    "    if result is None:\n",
    "        print(\"Invalid Item Index\")\n",
    "        itemG3Index = -99\n",
    "    else:\n",
    "        itemG3Index = result[0]\n",
    "        \n",
    "    conn.close()\n",
    "    return itemG3Index\n",
    "\n",
    "\n",
    "def getItemG3IdWithItemG3Index(db_name, itemG3Index):\n",
    "    conn = sqlite3.connect(db_name)\n",
    "    cur = conn.cursor()\n",
    "    \n",
    "    cur.execute(\"SELECT ItemG3Id FROM ItemMapping WHERE ItemG3Index=?\", (itemG3Index,))\n",
    "    result = cur.fetchone()\n",
    "    if result is None:\n",
    "        print(\"Invalid Item Index\")\n",
    "        itemG3Id = -99\n",
    "    else:\n",
    "        itemG3Id = result[0]\n",
    "        \n",
    "    conn.close()\n",
    "    return itemG3Id"
   ]
  },
  {
   "cell_type": "code",
   "execution_count": 3,
   "metadata": {
    "collapsed": false
   },
   "outputs": [
    {
     "name": "stdout",
     "output_type": "stream",
     "text": [
      "3\n",
      "2056207\n"
     ]
    }
   ],
   "source": [
    "db_name = \"database/ObaseDb\"\n",
    "\n",
    "customerId = 3006459\n",
    "customerIndex = getCustomerIndex(db_name, customerId)\n",
    "print(customerIndex)\n",
    "\n",
    "customerIndex = 10\n",
    "customerId = getCustomerId(db_name, customerIndex)\n",
    "print(customerId)"
   ]
  },
  {
   "cell_type": "code",
   "execution_count": 4,
   "metadata": {
    "collapsed": false
   },
   "outputs": [
    {
     "name": "stdout",
     "output_type": "stream",
     "text": [
      "4\n",
      "Invalid Item Index\n",
      "-99\n"
     ]
    }
   ],
   "source": [
    "db_name = \"database/ObaseDb\"\n",
    "\n",
    "itemId = 32880\n",
    "itemIndex = getItemIndexWithItemId(db_name, itemId)\n",
    "print(itemIndex)\n",
    "\n",
    "itemIndex = 10000\n",
    "itemId = getItemIdWithItemIndex(db_name, itemIndex)\n",
    "print(itemId)"
   ]
  },
  {
   "cell_type": "code",
   "execution_count": 5,
   "metadata": {
    "collapsed": false
   },
   "outputs": [
    {
     "name": "stdout",
     "output_type": "stream",
     "text": [
      "4\n",
      "555\n"
     ]
    }
   ],
   "source": [
    "db_name = \"database/ObaseDb\"\n",
    "\n",
    "itemId = 116\n",
    "itemG3Index = getItemG3IndexWithItemId(db_name, itemId)\n",
    "print(itemG3Index)\n",
    "\n",
    "itemIndex = 14\n",
    "itemG3Id = getItemG3IdWithItemIndex(db_name, itemIndex)\n",
    "print(itemG3Id)"
   ]
  },
  {
   "cell_type": "code",
   "execution_count": 6,
   "metadata": {
    "collapsed": false
   },
   "outputs": [
    {
     "name": "stdout",
     "output_type": "stream",
     "text": [
      "10\n"
     ]
    }
   ],
   "source": [
    "db_name = \"database/ObaseDb\"\n",
    "\n",
    "itemIndex = 14\n",
    "itemG3Index = getItemG3IndexWithItemIndex(db_name, itemIndex)\n",
    "print(itemG3Index)"
   ]
  },
  {
   "cell_type": "code",
   "execution_count": null,
   "metadata": {
    "collapsed": true
   },
   "outputs": [],
   "source": []
  }
 ],
 "metadata": {
  "kernelspec": {
   "display_name": "Python 3",
   "language": "python",
   "name": "python3"
  },
  "language_info": {
   "codemirror_mode": {
    "name": "ipython",
    "version": 3
   },
   "file_extension": ".py",
   "mimetype": "text/x-python",
   "name": "python",
   "nbconvert_exporter": "python",
   "pygments_lexer": "ipython3",
   "version": "3.4.3"
  }
 },
 "nbformat": 4,
 "nbformat_minor": 0
}
