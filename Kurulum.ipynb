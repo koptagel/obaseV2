{
 "cells": [
  {
   "cell_type": "markdown",
   "metadata": {},
   "source": [
    "## Kurulum\n",
    "\n",
    "* Git'ten server kodlari indirilir. Veritabanini olusturmak icin gerekli olan 3 dosya, txtFiles klasorunde bulunuyor.\n",
    "* Komut satirindan server kodlarinin oldugu klasore gelinir.\n",
    "\n",
    "\n",
    "* cd database\n",
    "* sqlite3 ObaseDb.db\n",
    "* .mode csv\n",
    "* .separator \\t\n",
    "\n",
    "\n",
    "* Create Table CustomerMapping (CustomerIndex Int, CustomerId Int);\n",
    "* .import ../txtFiles/CustomerMapping.txt CustomerMapping\n",
    "\n",
    "\n",
    "* Create Table ItemMapping (ItemIndex Int, ItemId Int, ItemG3Index Int, ItemG3Id Int, ItemG3Ds Text, ItemDs Text);\n",
    "* .import ../txtFiles/ItemMapping.txt ItemMapping\n",
    "\n",
    "\n",
    "* Create Table SalesTensor (WeekIndex Int, DowIndex Int, HourIndex Int, ItemIndex Int, ItemG3Index Int, CustomerIndex Int, Amount Real);\n",
    "* .import ../txtFiles/SalesTensor.txt SalesTensor\n",
    "\n",
    "\n",
    "* Create Table ProfileMapping (ProfileId Int, ProfileDs Text);\n",
    "* Create Table ProfileCustomers (ProfileId Int, CustomerId Int, CustomerPercentage Int);\n",
    "* Create Table ProfileItems (ProfileId Int, ItemId Int, ItemPercentage Int);\n",
    "\n",
    "\n",
    "* .exit \n",
    "\n",
    "* cd ..\n",
    "* python3 OfflineFunctionsForSetUp.py\n",
    "\n"
   ]
  },
  {
   "cell_type": "code",
   "execution_count": null,
   "metadata": {
    "collapsed": true
   },
   "outputs": [],
   "source": []
  }
 ],
 "metadata": {
  "kernelspec": {
   "display_name": "Python 3",
   "language": "python",
   "name": "python3"
  },
  "language_info": {
   "codemirror_mode": {
    "name": "ipython",
    "version": 3
   },
   "file_extension": ".py",
   "mimetype": "text/x-python",
   "name": "python",
   "nbconvert_exporter": "python",
   "pygments_lexer": "ipython3",
   "version": "3.5.1"
  }
 },
 "nbformat": 4,
 "nbformat_minor": 0
}
