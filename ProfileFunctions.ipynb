{
 "cells": [
  {
   "cell_type": "markdown",
   "metadata": {},
   "source": [
    "## Profile Functions\n",
    "This notebook contains functions related to customer profiles. There are two main functionalities of these functions; generating a customer profile and updating the corresponding tables in the database.\n",
    "\n",
    "### Functions In This Notebook\n",
    "* #### generateCustomerProfile(db_name, profileId, profileDs, productList, minPercentage, numCustomers, criteria, shapes)\n",
    "Given the parameters, this function generates customer profile. Adds the profile into ProfileMapping table and the customers into ProfileCustomers table.\n",
    "\n",
    "* #### updateProfileItems(db_name, profileId, productsData)\n",
    "Given the products data from similarCustomers function, this function updates ProfileItems table in the database. "
   ]
  },
  {
   "cell_type": "code",
   "execution_count": 1,
   "metadata": {
    "collapsed": false
   },
   "outputs": [
    {
     "name": "stdout",
     "output_type": "stream",
     "text": [
      "Overwriting ProfileFunctions.py\n"
     ]
    }
   ],
   "source": [
    "%%writefile ProfileFunctions.py\n",
    "\n",
    "import numpy as np\n",
    "from scipy.sparse import *\n",
    "import sqlite3\n",
    "\n",
    "import MappingFunctions\n",
    "import NmfFunctions\n",
    "import SalesFunctions\n",
    "\n",
    "def generateCustomerProfile(db_name, profileId, profileDs, productList, minPercentage, numCustomers, criteria, shapes):\n",
    "    \n",
    "    # Load SalesMatrix in the shape NumCustomers x NumItemsGroup3\n",
    "    salesMatrix = SalesFunctions.getSalesMatrix(db_name, criteria, shapes)\n",
    " \n",
    "    # Find valid and invalid items \n",
    "    validItems = []\n",
    "    invalidItems = []\n",
    "\n",
    "    for i in range(len(productList)):\n",
    "        itemIndex = MappingFunctions.getItemG3IndexWithItemId(db_name, productList[i])\n",
    "        if itemIndex != -99 or itemIndex != -1:\n",
    "            validItems.append(itemIndex)\n",
    "        else:\n",
    "            data = {}\n",
    "            data['id'] = int(productList[i])\n",
    "            invalidItems.append(data) \n",
    "            \n",
    "    # Apply Nmf with Fix Basis\n",
    "    rank = 1\n",
    "    maxIter = 2\n",
    "    \n",
    "    Z2 = np.zeros((rank,shapes[1]))\n",
    "    Z2[0,validItems] = 1\n",
    "\n",
    "    _, _, _, _, customerIndices, customerPercentages = NmfFunctions.nmfFixBasis(salesMatrix.toarray(), Z2, maxIter, rank)\n",
    "    \n",
    "    # Apply limitations\n",
    "    count = 0\n",
    "    customerData = []\n",
    "    for i in range(len(customerIndices)):\n",
    "        if count < numCustomers:\n",
    "            if int(customerPercentages[i])>= minPercentage:\n",
    "                data2 = {}\n",
    "                data2['percentage'] = int(customerPercentages[i])\n",
    "                data2['id'] = MappingFunctions.getCustomerId(db_name, int(customerIndices[i]))\n",
    "\n",
    "                customerData.append(data2)\n",
    "                count = count+1\n",
    "        else:\n",
    "            break\n",
    "            \n",
    "    # Update database\n",
    "    conn = sqlite3.connect(db_name)\n",
    "    cur = conn.cursor()\n",
    "\n",
    "    tableName = \"ProfileMapping\"\n",
    "\n",
    "    sqlQuery = \"DELETE FROM %s WHERE ProfileId=%d\" % (tableName, profileId)\n",
    "    cur.execute(sqlQuery)\n",
    "    sqlQuery = \"INSERT INTO %s VALUES (%d, \\\"%s\\\")\" % (tableName, profileId, profileDs)\n",
    "    cur.execute(sqlQuery)\n",
    "\n",
    "\n",
    "    tableName = \"ProfileCustomers\"\n",
    "\n",
    "    sqlQuery = \"DELETE FROM %s WHERE ProfileId=%d\" % (tableName, profileId)\n",
    "    cur.execute(sqlQuery)\n",
    "    for i in range(len(customerData)):\n",
    "        sqlQuery = \"INSERT INTO %s VALUES (%d, %d, %d)\" % (tableName, profileId, customerData[i][\"id\"], customerData[i][\"percentage\"])\n",
    "        cur.execute(sqlQuery)\n",
    "\n",
    "    conn.commit()\n",
    "    conn.close()\n",
    "            \n",
    "    return customerData, invalidItems\n",
    "\n",
    "\n",
    "def updateProfileItems(db_name, profileId, productsData):\n",
    "    conn = sqlite3.connect(db_name)\n",
    "    cur = conn.cursor()\n",
    "\n",
    "    tableName = \"ProfileItems\"\n",
    "\n",
    "    sqlQuery = \"DELETE FROM %s WHERE ProfileId=%d\" % (tableName, profileId)\n",
    "    cur.execute(sqlQuery)\n",
    "    for i in range(len(productsData)):\n",
    "        sqlQuery = \"INSERT INTO %s VALUES (%d, %d, %d)\" % (tableName, profileId, productsData[i][\"id\"], productsData[i][\"percentage\"])\n",
    "        cur.execute(sqlQuery)\n",
    "\n",
    "    conn.commit()\n",
    "    conn.close()"
   ]
  },
  {
   "cell_type": "code",
   "execution_count": null,
   "metadata": {
    "collapsed": true
   },
   "outputs": [],
   "source": []
  }
 ],
 "metadata": {
  "kernelspec": {
   "display_name": "Python 3",
   "language": "python",
   "name": "python3"
  },
  "language_info": {
   "codemirror_mode": {
    "name": "ipython",
    "version": 3
   },
   "file_extension": ".py",
   "mimetype": "text/x-python",
   "name": "python",
   "nbconvert_exporter": "python",
   "pygments_lexer": "ipython3",
   "version": "3.5.1"
  }
 },
 "nbformat": 4,
 "nbformat_minor": 0
}
