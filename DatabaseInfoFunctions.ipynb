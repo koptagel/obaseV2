{
 "cells": [
  {
   "cell_type": "code",
   "execution_count": 8,
   "metadata": {
    "collapsed": false
   },
   "outputs": [
    {
     "name": "stdout",
     "output_type": "stream",
     "text": [
      "Overwriting DatabaseInfoFunctions.py\n"
     ]
    }
   ],
   "source": [
    "%%writefile DatabaseInfoFunctions.py\n",
    "\n",
    "import sqlite3\n",
    "\n",
    "def getDatabaseShape(db_name):\n",
    "    conn = sqlite3.connect(db_name)\n",
    "    c = conn.cursor()\n",
    "\n",
    "    c.execute(\"SELECT MAX(WeekIndex), MAX(DowIndex), MAX(HourIndex), MAX(ItemIndex), MAX(ItemG3Index), MAX(CustomerIndex) FROM SalesTensor\")\n",
    "\n",
    "    for values in c:\n",
    "        NUM_ALL_WEEKS = values[0] + 1\n",
    "        NUM_ALL_DOWS = values[1] + 1\n",
    "        NUM_ALL_HOURS = values[2] + 1\n",
    "        NUM_ALL_ITEMS = values[3] + 1\n",
    "        NUM_ALL_ITEMSG3 = values[4] + 1\n",
    "        NUM_ALL_CUSTOMERS = values[5] + 1\n",
    "\n",
    "    databaseShape = [NUM_ALL_WEEKS, NUM_ALL_DOWS, NUM_ALL_HOURS, NUM_ALL_ITEMS, NUM_ALL_ITEMSG3, NUM_ALL_CUSTOMERS]\n",
    "    \n",
    "    conn.close()\n",
    "\n",
    "    return databaseShape"
   ]
  },
  {
   "cell_type": "code",
   "execution_count": 7,
   "metadata": {
    "collapsed": false
   },
   "outputs": [
    {
     "data": {
      "text/plain": [
       "[81, 7, 24, 7269, 180, 3392]"
      ]
     },
     "execution_count": 7,
     "metadata": {},
     "output_type": "execute_result"
    }
   ],
   "source": [
    "db_name = \"database/ObaseDb\" \n",
    "databaseShape = getDatabaseShape(db_name)\n",
    "databaseShape"
   ]
  },
  {
   "cell_type": "code",
   "execution_count": null,
   "metadata": {
    "collapsed": true
   },
   "outputs": [],
   "source": []
  }
 ],
 "metadata": {
  "kernelspec": {
   "display_name": "Python 3",
   "language": "python",
   "name": "python3"
  },
  "language_info": {
   "codemirror_mode": {
    "name": "ipython",
    "version": 3
   },
   "file_extension": ".py",
   "mimetype": "text/x-python",
   "name": "python",
   "nbconvert_exporter": "python",
   "pygments_lexer": "ipython3",
   "version": "3.5.1"
  }
 },
 "nbformat": 4,
 "nbformat_minor": 0
}
