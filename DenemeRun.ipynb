{
 "cells": [
  {
   "cell_type": "code",
   "execution_count": 9,
   "metadata": {
    "collapsed": false
   },
   "outputs": [
    {
     "name": "stdout",
     "output_type": "stream",
     "text": [
      "Overwriting DenemeRun.py\n"
     ]
    }
   ],
   "source": [
    "%%writefile DenemeRun.py\n",
    "import numpy as np\n",
    "import sqlite3\n",
    "\n",
    "def func1(db_name, customerIndex):\n",
    "    print(\"func1 starts\") \n",
    "    \n",
    "    conn = sqlite3.connect(db_name)\n",
    "    c = conn.cursor()\n",
    "\n",
    "    tableName = \"asdDeneme\"\n",
    "    sqlQuery = \"CREATE TABLE %s (CustomerIndex INT, ItemG3Index INT, Amount REAL)\" % tableName\n",
    "    c.execute(sqlQuery)\n",
    "    \n",
    "    sqlQuery = \"SELECT ItemG3Index, SUM(Amount) FROM SalesTensor WHERE CustomerIndex=%d GROUP BY ItemG3Index \" % customerIndex\n",
    "    c.execute(sqlQuery)\n",
    "\n",
    "    for values in c:\n",
    "        print(values)\n",
    "\n",
    "    conn.close()\n",
    "    \n",
    "def main():\n",
    "    print(\"main starts\")\n",
    "    \n",
    "    customerIndex = 10\n",
    "    db_name = \"database/ObaseDb\"\n",
    "    \n",
    "    func1(db_name, customerIndex)\n",
    "    \n",
    "if __name__ == \"__main__\": main()"
   ]
  },
  {
   "cell_type": "code",
   "execution_count": null,
   "metadata": {
    "collapsed": true
   },
   "outputs": [],
   "source": []
  },
  {
   "cell_type": "code",
   "execution_count": null,
   "metadata": {
    "collapsed": false
   },
   "outputs": [],
   "source": [
    "db_name = \"database/ObaseDb\"\n",
    "\n",
    "conn = sqlite3.connect(db_name)\n",
    "c = conn.cursor()\n",
    "\n",
    "customerIndex = 3177\n",
    "c.execute(\"SELECT CustomerIndex, ItemG3Index, SUM(Amount) FROM SalesTensor GROUP BY CustomerIndex, ItemG3Index \")\n",
    "\n",
    "for values in c:\n",
    "    print(values)\n",
    "    \n",
    "conn.close()"
   ]
  },
  {
   "cell_type": "code",
   "execution_count": null,
   "metadata": {
    "collapsed": true
   },
   "outputs": [],
   "source": []
  },
  {
   "cell_type": "code",
   "execution_count": 10,
   "metadata": {
    "collapsed": false
   },
   "outputs": [
    {
     "data": {
      "text/plain": [
       "3392"
      ]
     },
     "execution_count": 10,
     "metadata": {},
     "output_type": "execute_result"
    }
   ],
   "source": [
    "db_name = \"database/ObaseDb\"\n",
    "\n",
    "conn = sqlite3.connect(db_name)\n",
    "c = conn.cursor()\n",
    "\n",
    "c.execute(\"SELECT MAX(CustomerIndex) FROM CustomerMapping\")\n",
    "\n",
    "for values in c:\n",
    "    NUM_ALL_CUSTOMERS = values[0] + 1\n",
    "    \n",
    "conn.close()\n",
    "\n",
    "NUM_ALL_CUSTOMERS"
   ]
  },
  {
   "cell_type": "code",
   "execution_count": 13,
   "metadata": {
    "collapsed": false
   },
   "outputs": [
    {
     "name": "stdout",
     "output_type": "stream",
     "text": [
      "(7268, 179)\n"
     ]
    },
    {
     "data": {
      "text/plain": [
       "180"
      ]
     },
     "execution_count": 13,
     "metadata": {},
     "output_type": "execute_result"
    }
   ],
   "source": [
    "db_name = \"database/ObaseDb\"\n",
    "\n",
    "conn = sqlite3.connect(db_name)\n",
    "c = conn.cursor()\n",
    "\n",
    "c.execute(\"SELECT MAX(ItemIndex), MAX(ItemG3Index) FROM ItemMapping\")\n",
    "\n",
    "for values in c:\n",
    "    print(values)\n",
    "    NUM_ALL_ITEMS = values[0] + 1\n",
    "    NUM_ALL_ITEMSG3 = values[1] + 1\n",
    "    \n",
    "conn.close()\n",
    "\n",
    "NUM_ALL_ITEMS\n",
    "NUM_ALL_ITEMSG3"
   ]
  },
  {
   "cell_type": "code",
   "execution_count": 18,
   "metadata": {
    "collapsed": false
   },
   "outputs": [
    {
     "name": "stdout",
     "output_type": "stream",
     "text": [
      "(80, 6, 23, 7268, 179, 3391)\n"
     ]
    }
   ],
   "source": [
    "\n",
    "\n",
    "conn = sqlite3.connect(db_name)\n",
    "c = conn.cursor()\n",
    "\n",
    "c.execute(\"SELECT MAX(WeekIndex), MAX(DowIndex), MAX(HourIndex), MAX(ItemIndex), MAX(ItemG3Index), MAX(CustomerIndex) FROM SalesTensor\")\n",
    "\n",
    "for values in c:\n",
    "    print(values)\n",
    "    NUM_ALL_WEEKS = values[0] + 1\n",
    "    NUM_ALL_DOWS = values[1] + 1\n",
    "    NUM_ALL_HOURS = values[2] + 1\n",
    "    NUM_ALL_ITEMS = values[3] + 1\n",
    "    NUM_ALL_ITEMSG3 = values[4] + 1\n",
    "    NUM_ALL_CUSTOMERS = values[5] + 1\n",
    "    \n",
    "conn.close()"
   ]
  },
  {
   "cell_type": "code",
   "execution_count": 19,
   "metadata": {
    "collapsed": false
   },
   "outputs": [
    {
     "data": {
      "text/plain": [
       "81"
      ]
     },
     "execution_count": 19,
     "metadata": {},
     "output_type": "execute_result"
    }
   ],
   "source": [
    "NUM_ALL_WEEKS"
   ]
  },
  {
   "cell_type": "code",
   "execution_count": 20,
   "metadata": {
    "collapsed": false
   },
   "outputs": [
    {
     "data": {
      "text/plain": [
       "7"
      ]
     },
     "execution_count": 20,
     "metadata": {},
     "output_type": "execute_result"
    }
   ],
   "source": [
    "NUM_ALL_DOWS"
   ]
  },
  {
   "cell_type": "code",
   "execution_count": null,
   "metadata": {
    "collapsed": true
   },
   "outputs": [],
   "source": []
  }
 ],
 "metadata": {
  "kernelspec": {
   "display_name": "Python 3",
   "language": "python",
   "name": "python3"
  },
  "language_info": {
   "codemirror_mode": {
    "name": "ipython",
    "version": 3
   },
   "file_extension": ".py",
   "mimetype": "text/x-python",
   "name": "python",
   "nbconvert_exporter": "python",
   "pygments_lexer": "ipython3",
   "version": "3.5.1"
  }
 },
 "nbformat": 4,
 "nbformat_minor": 0
}
